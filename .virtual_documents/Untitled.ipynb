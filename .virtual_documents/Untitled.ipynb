get_ipython().getoutput("cd ../yanhua_perturbseq ")


get_ipython().getoutput("ls /n/data1/bch/hemonc/bauer/lucassilva/guillame_perturbseq/ | grep ipynb")


get_ipython().run_cell_magic("writefile", " file.perturb", """

params {
    
    GTF_GZ_LINK = 'http://ftp.ensembl.org/pub/release-106/gtf/homo_sapiens/Homo_sapiens.GRCh38.106.gtf.gz'
    TRANSCRIPTOME_REFERENCE = "human"
    KALLISTO_BIN = '/home/lf114/miniconda3/envs/perturbseq_pipeline/bin/kallisto'
    GENOME = 'https://hgdownload.soe.ucsc.edu/goldenPath/hg38/bigZips/hg38.fa.gz'
    GUIDE_FEATURES = '5p27sgRNA_guide_metainfo_modified.xlsx'
    CHEMISTRY = '0,0,16:0,16,26:0,26,0,1,0,0'
    THREADS = 15
    DISTANCE_NEIGHBORS = 1000000
    IN_TRANS = "FALSE"
    FASTQ_FILES_TRANSCRIPTS = ['5p27sgRNAGex_02KRWD_11408_S3_L001_R1_001.fastq.gz 5p27sgRNAGex_02KRWD_11408_S3_L001_R2_001.fastq.gz']
    FASTQ_NAMES_TRANSCRIPTS = ['S1_L1']
    FASTQ_FILES_GUIDES = ['5p27sgRNAsgRNA_02KRWK_11408_S15_L001_R1_001.fastq.gz 5p27sgRNAsgRNA_02KRWK_11408_S15_L001_R2_001.fastq.gz' ]
    FASTQ_NAMES_GUIDES = ['S1_L1']
    CREATE_REF = false

}

""")


execute_path = '/n/scratch3/users/l/lf114/yanhua_perturbseq'
nf_path = '/n/scratch3/users/l/lf114/pipeline_perturbseq_like'
dir_out = 'first_test'
report_path = f'/n/scratch3/users/l/lf114/yanhua_perturbseq/{dir_out}'
resume = '-resume' # or empty
param_file_path = '/n/scratch3/users/l/lf114/pipeline_perturbseq_like/file.perturb'

cmd_run = f'cd {execute_path}; nextflow run {nf_path} -params-file {param_file_path} -with-timeline {report_path} {resume} -w  {dir_out}'

get_ipython().getoutput("$cmd_run")


get_ipython().getoutput("pwd")






