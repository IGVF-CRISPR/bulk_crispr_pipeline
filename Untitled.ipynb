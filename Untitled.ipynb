{
 "cells": [
  {
   "cell_type": "markdown",
   "id": "4d94b8a1-a03a-4ab2-b580-09e45460efce",
   "metadata": {},
   "source": [
    "## TODO\n",
    "- [X]  checkedRUN AGAIN WITH A MODIFIED EXCEL (CHANGING THE NAME OF THE NEGATIVE CONTROL GENES)\n",
    "- [X] Eliminate guides present with less than 30 cells\n",
    "- [X] Fix the single batch problem \n",
    "- [X]  SOLVE THE PROBLEM TO RUN AGAINST ALL GENES (TRANS ANALYSIS) (Should be configured by guide in the future?)\n",
    "- [ ]  ADD PARAMETERS TO SOME OF THE FUNCTIONS (THEY ARE HARDCODED NOW ..EX: merge..number of cells and etc)\n",
    "- [ ]  Create a nice description to the input files\n",
    "- [ ]  fix the Rbase version to 4.2.2\n",
    "- [ ]  change threads to cpus  (taks.cpu)\n",
    "- [ ]  probably I can provide a list of elements and ask nextflow to handle the paralelizing (receiving the elements names in a channel?)\n",
    "- [ ]  Create easing options to add 3'and 5'chemistry\n",
    "- [ ]  how is the -report flag in the count comand? is this memory expensive?\n",
    "- [ ]  Cell hashing and Multi-seq ? https://www.ncbi.nlm.nih.gov/sra?linkname=bioproject_sra_all&from_uid=719672"
   ]
  },
  {
   "cell_type": "markdown",
   "id": "684133d0-b920-4b7d-8a17-20a3f6f441de",
   "metadata": {},
   "source": [
    "activate the enviroment: source activate perturbseq_pipeline"
   ]
  },
  {
   "cell_type": "code",
   "execution_count": null,
   "id": "2d3eff89-695f-4bcc-817c-61a6833ce783",
   "metadata": {},
   "outputs": [],
   "source": [
    "!cd ../yanhua_perturbseq "
   ]
  },
  {
   "cell_type": "code",
   "execution_count": 11,
   "id": "f3035e24-41c7-4d2a-ac61-00917825ddd3",
   "metadata": {},
   "outputs": [
    {
     "name": "stdout",
     "output_type": "stream",
     "text": [
      "pipeline.ipynb\n",
      "processing_script_and_testings.ipynb\n",
      "Untitled.ipynb\n",
      "visualization.ipynb\n"
     ]
    }
   ],
   "source": [
    "!ls /n/data1/bch/hemonc/bauer/lucassilva/guillame_perturbseq/ | grep ipynb"
   ]
  },
  {
   "cell_type": "code",
   "execution_count": 13,
   "id": "a55eabc4-783a-4832-82c0-72664eb53dd5",
   "metadata": {},
   "outputs": [
    {
     "name": "stdout",
     "output_type": "stream",
     "text": [
      "Overwriting perturb.config\n"
     ]
    }
   ],
   "source": [
    "%%writefile perturb.config\n",
    "\n",
    "params.GTF_GZ_LINK = 'http://ftp.ensembl.org/pub/release-106/gtf/homo_sapiens/Homo_sapiens.GRCh38.106.gtf.gz'\n",
    "params.TRANSCRIPTOME_REFERENCE = \"human\"\n",
    "params.KALLISTO_BIN = '/home/lf114/miniconda3/envs/perturbseq_pipeline/bin/kallisto'\n",
    "params.GENOME = 'https://hgdownload.soe.ucsc.edu/goldenPath/hg38/bigZips/hg38.fa.gz'\n",
    "params.GUIDE_FEATURES = '/n/data1/bch/hemonc/bauer/lucassilva/guillame_perturbseq/5p27sgRNA_guide_metainfo_modified.xlsx'\n",
    "params.CHEMISTRY = '0,0,16:0,16,26:0,26,0,1,0,0'\n",
    "params.THREADS = 15\n",
    "params.DISTANCE_NEIGHBORS = 1000000\n",
    "params.IN_TRANS = \"FALSE\"\n",
    "params.FASTQ_FILES_TRANSCRIPTS = ['/n/scratch3/users/l/lf114/guillaume_perturb_data/5p27sgRNAGex_02KRWD_11408_S3_L001_R1_001.fastq.gz /n/scratch3/users/l/lf114/guillaume_perturb_data/5p27sgRNAGex_02KRWD_11408_S3_L001_R2_001.fastq.gz']\n",
    "params.FASTQ_NAMES_TRANSCRIPTS = ['S1_L1']\n",
    "params.FASTQ_FILES_GUIDES = ['/n/scratch3/users/l/lf114/guillaume_perturb_data/5p27sgRNAsgRNA_02KRWK_11408_S15_L001_R1_001.fastq.gz /n/scratch3/users/l/lf114/guillaume_perturb_data/5p27sgRNAsgRNA_02KRWK_11408_S15_L001_R2_001.fastq.gz' ]\n",
    "params.FASTQ_NAMES_GUIDES = ['S1_L1']\n",
    "params.CREATE_REF = false\n"
   ]
  },
  {
   "cell_type": "code",
   "execution_count": 15,
   "id": "879d1890-7e31-4281-b172-333ec534929f",
   "metadata": {},
   "outputs": [
    {
     "name": "stdout",
     "output_type": "stream",
     "text": [
      "N E X T F L O W  ~  version 22.10.6\n",
      "WARN: It appears you have never run this project before -- Option `-resume` is ignored\n",
      "Launching `/n/scratch3/users/l/lf114/pipeline_perturbseq_like/perturb_pipeline.nf` [marvelous_darwin] DSL2 - revision: 3aa6f761a2\n",
      "[-        ] process > downloadGTF             -\u001b[K\n",
      "[-        ] process > downloadReference       -\u001b[K\n",
      "[-        ] process > downloadGenome          -\u001b[K\n",
      "[-        ] process > guidePreprocessing      -\u001b[K\n",
      "[-        ] process > creatingGuideRef        -\u001b[K\n",
      "[-        ] process > mappingscRNA            -\u001b[K\n",
      "[-        ] process > mappingGuide            -\u001b[K\n",
      "[-        ] process > preprocessing           -\u001b[K\n",
      "[-        ] process > filtering               -\u001b[K\n",
      "[-        ] process > PerturbLoaderGeneration -\u001b[K\n",
      "[-        ] process > runSceptre              -\u001b[K\n",
      "\u001b[33mWARN: Input `set` must define at least two component -- Check process `mappingscRNA`\u001b[39m\u001b[K\n",
      "\u001b[33mWARN: Input `set` must define at least two component -- Check process `mappingGuide`\u001b[39m\u001b[K\n",
      "\u001b[14A\n",
      "executor >  local (4)\u001b[K\n",
      "[c3/7fba48] process > downloadGTF             [  0%] 0 of 1\u001b[K\n",
      "[22/0c7904] process > downloadReference (1)   [  0%] 0 of 1\u001b[K\n",
      "[14/9dccc2] process > downloadGenome (1)      [  0%] 0 of 1\u001b[K\n",
      "[cf/a8cac1] process > guidePreprocessing      [  0%] 0 of 1\u001b[K\n",
      "[-        ] process > creatingGuideRef        -\u001b[K\n",
      "[-        ] process > mappingscRNA            -\u001b[K\n",
      "[-        ] process > mappingGuide            -\u001b[K\n",
      "[-        ] process > preprocessing           -\u001b[K\n",
      "[-        ] process > filtering               -\u001b[K\n",
      "[-        ] process > PerturbLoaderGeneration -\u001b[K\n",
      "[-        ] process > runSceptre              -\u001b[K\n",
      "\u001b[33mWARN: Input `set` must define at least two component -- Check process `mappingscRNA`\u001b[39m\u001b[K\n",
      "\u001b[33mWARN: Input `set` must define at least two component -- Check process `mappingGuide`\u001b[39m\u001b[K\n",
      "\u001b[15A\n",
      "executor >  local (4)\u001b[K\n",
      "[c3/7fba48] process > downloadGTF             [  0%] 0 of 1\u001b[K\n",
      "[22/0c7904] process > downloadReference (1)   [  0%] 0 of 1\u001b[K\n",
      "[14/9dccc2] process > downloadGenome (1)      [  0%] 0 of 1\u001b[K\n",
      "[cf/a8cac1] process > guidePreprocessing      [  0%] 0 of 1\u001b[K\n",
      "[-        ] process > creatingGuideRef        -\u001b[K\n",
      "[-        ] process > mappingscRNA            -\u001b[K\n",
      "[-        ] process > mappingGuide            -\u001b[K\n",
      "[-        ] process > preprocessing           -\u001b[K\n",
      "[-        ] process > filtering               -\u001b[K\n",
      "[-        ] process > PerturbLoaderGeneration -\u001b[K\n",
      "[-        ] process > runSceptre              -\u001b[K\n",
      "\u001b[33mWARN: Input `set` must define at least two component -- Check process `mappingscRNA`\u001b[39m\u001b[K\n",
      "\u001b[33mWARN: Input `set` must define at least two component -- Check process `mappingGuide`\u001b[39m\u001b[K\n",
      "\u001b[31mError executing process > 'guidePreprocessing'\u001b[K\n",
      "\u001b[K\n",
      "Caused by:\u001b[K\n",
      "  Process `guidePreprocessing` terminated with an error exit status (2)\u001b[K\n",
      "\u001b[K\n",
      "Command executed:\u001b[K\n",
      "\u001b[K\n",
      "  python guide_table_processing.py  5p27sgRNA_guide_metainfo_modified.xlsx\u001b[K\n",
      "\u001b[K\n",
      "Command exit status:\u001b[K\n",
      "  2\u001b[K\n",
      "\u001b[K\n",
      "Command output:\u001b[K\n",
      "  (empty)\u001b[K\n",
      "\u001b[K\n",
      "Command error:\u001b[K\n",
      "  python: can't open file 'guide_table_processing.py': [Errno 2] No such file or directory\u001b[K\n",
      "\u001b[K\n",
      "Work dir:\u001b[K\n",
      "  /n/scratch3/users/l/lf114/yanhua_perturbseq/first_test/cf/a8cac1499fd6d0e5c8afac62e82011\u001b[K\n",
      "\u001b[K\n",
      "Tip: you can try to figure out what's wrong by changing to the process work dir and showing the script file named `.command.sh`\u001b[K\n",
      "\u001b[K\n",
      "\u001b[39m\u001b[K\n",
      "WARN: Killing running tasks (3)\n",
      "\u001b[39A\n",
      "executor >  local (4)\u001b[K\n",
      "[-        ] process > downloadGTF             -\u001b[K\n",
      "[-        ] process > downloadReference (1)   -\u001b[K\n",
      "[-        ] process > downloadGenome (1)      -\u001b[K\n",
      "[cf/a8cac1] process > guidePreprocessing      [100%] 1 of 1, failed: 1 ✘\u001b[K\n",
      "[-        ] process > creatingGuideRef        -\u001b[K\n",
      "[-        ] process > mappingscRNA            -\u001b[K\n",
      "[-        ] process > mappingGuide            -\u001b[K\n",
      "[-        ] process > preprocessing           -\u001b[K\n",
      "[-        ] process > filtering               -\u001b[K\n",
      "[-        ] process > PerturbLoaderGeneration -\u001b[K\n",
      "[-        ] process > runSceptre              -\u001b[K\n",
      "\u001b[33mWARN: Input `set` must define at least two component -- Check process `mappingscRNA`\u001b[39m\u001b[K\n",
      "\u001b[33mWARN: Input `set` must define at least two component -- Check process `mappingGuide`\u001b[39m\u001b[K\n",
      "\u001b[31mError executing process > 'guidePreprocessing'\u001b[K\n",
      "\u001b[K\n",
      "Caused by:\u001b[K\n",
      "  Process `guidePreprocessing` terminated with an error exit status (2)\u001b[K\n",
      "\u001b[K\n",
      "Command executed:\u001b[K\n",
      "\u001b[K\n",
      "  python guide_table_processing.py  5p27sgRNA_guide_metainfo_modified.xlsx\u001b[K\n",
      "\u001b[K\n",
      "Command exit status:\u001b[K\n",
      "  2\u001b[K\n",
      "\u001b[K\n",
      "Command output:\u001b[K\n",
      "  (empty)\u001b[K\n",
      "\u001b[K\n",
      "Command error:\u001b[K\n",
      "  python: can't open file 'guide_table_processing.py': [Errno 2] No such file or directory\u001b[K\n",
      "\u001b[K\n",
      "Work dir:\u001b[K\n",
      "  /n/scratch3/users/l/lf114/yanhua_perturbseq/first_test/cf/a8cac1499fd6d0e5c8afac62e82011\u001b[K\n",
      "\u001b[K\n",
      "Tip: you can try to figure out what's wrong by changing to the process work dir and showing the script file named `.command.sh`\u001b[K\n",
      "\u001b[K\n",
      "\u001b[39m\u001b[K\n",
      "WARN: Failed to render execution timeline -- see the log file for details\n",
      "\n"
     ]
    }
   ],
   "source": [
    "execute_path = '/n/scratch3/users/l/lf114/yanhua_perturbseq'\n",
    "nf_path = '/n/scratch3/users/l/lf114/pipeline_perturbseq_like/perturb_pipeline.nf'\n",
    "dir_out = 'first_test'\n",
    "report_path = f'/n/scratch3/users/l/lf114/yanhua_perturbseq/{dir_out}'\n",
    "resume = '-resume' # or empty\n",
    "param_file_path = '/n/scratch3/users/l/lf114/pipeline_perturbseq_like/perturb.config'\n",
    "\n",
    "cmd_run = f'cd {execute_path}; nextflow run {nf_path} -c {param_file_path} -with-timeline {report_path} {resume} -w  {dir_out}'\n",
    "\n",
    "!$cmd_run"
   ]
  },
  {
   "cell_type": "code",
   "execution_count": 26,
   "id": "e194f392-9362-46ab-b9eb-0df501751afe",
   "metadata": {},
   "outputs": [
    {
     "name": "stdout",
     "output_type": "stream",
     "text": [
      "/n/scratch3/users/l/lf114/pipeline_perturbseq_like\n"
     ]
    }
   ],
   "source": [
    "!pwd"
   ]
  },
  {
   "cell_type": "code",
   "execution_count": 33,
   "id": "27914098-c722-49aa-b3da-67181f0b5b37",
   "metadata": {},
   "outputs": [
    {
     "name": "stdout",
     "output_type": "stream",
     "text": [
      "/bin/bash: newflow: command not found\n"
     ]
    }
   ],
   "source": []
  },
  {
   "cell_type": "code",
   "execution_count": 17,
   "id": "1adc37b9-df91-4a76-bab7-6208c9e99c6c",
   "metadata": {},
   "outputs": [
    {
     "name": "stdout",
     "output_type": "stream",
     "text": [
      "Username for 'https://github.com': ^C\n"
     ]
    }
   ],
   "source": [
    "!git push"
   ]
  },
  {
   "cell_type": "code",
   "execution_count": null,
   "id": "91f08bd4-a2ab-4412-b3f0-39aa82eac8b1",
   "metadata": {},
   "outputs": [],
   "source": []
  }
 ],
 "metadata": {
  "kernelspec": {
   "display_name": "Python 3 (ipykernel)",
   "language": "python",
   "name": "python3"
  },
  "language_info": {
   "codemirror_mode": {
    "name": "ipython",
    "version": 3
   },
   "file_extension": ".py",
   "mimetype": "text/x-python",
   "name": "python",
   "nbconvert_exporter": "python",
   "pygments_lexer": "ipython3",
   "version": "3.8.16"
  }
 },
 "nbformat": 4,
 "nbformat_minor": 5
}
