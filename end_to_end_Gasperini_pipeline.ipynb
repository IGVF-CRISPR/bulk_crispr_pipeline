{
 "cells": [
  {
   "cell_type": "markdown",
   "id": "4c6835b8-6869-4641-9af1-d1a7b54f4c17",
   "metadata": {
    "tags": []
   },
   "source": [
    "# Running the Gasperini 2019 pilot (small set using) using the CRISPR-fg PIPELINE"
   ]
  },
  {
   "cell_type": "markdown",
   "id": "e932b9e7-db07-4ea6-a674-69ea6e72e0f7",
   "metadata": {},
   "source": [
    "### current pipeline repository:\n",
    "https://github.com/LucasSilvaFerreira/pipeline_perturbseq_like/tree/master"
   ]
  },
  {
   "cell_type": "code",
   "execution_count": 20,
   "id": "75a07b24-dbbb-4646-b68c-08794820f469",
   "metadata": {
    "tags": []
   },
   "outputs": [],
   "source": [
    "%cd /n/scratch3/users/l/lf114/gasperini_2019_pipeline_crispr"
   ]
  },
  {
   "cell_type": "markdown",
   "id": "e876fb3b-18d5-4c01-b5e6-ec9d4d374a34",
   "metadata": {},
   "source": [
    "\n",
    "### Downloading Dataset\n",
    "This is can take a few hours   (You can add more threads to speed up)  \n",
    "adapt this script to your server case you need to send a job  "
   ]
  },
  {
   "cell_type": "code",
   "execution_count": 17,
   "id": "3afc6123-f2d8-494b-ae17-bbb28953b9f2",
   "metadata": {
    "tags": []
   },
   "outputs": [
    {
     "name": "stdout",
     "output_type": "stream",
     "text": [
      "Overwriting download.sh\n"
     ]
    }
   ],
   "source": [
    "%%writefile download.sh\n",
    "#!/bin/bash\n",
    "#SBATCH -n 20                              # 10 core\n",
    "#SBATCH -t 0-07:00                         # in D-HH:MM format\n",
    "#SBATCH -p short                           # Run in short partition\n",
    "#SBATCH --mem=80G\n",
    "#SBATCH -o download.out\n",
    "#SBATCH -e download.err\n",
    "#SBATCH --mail-type=ALL                    # Type of email notification- BEGIN,END,FAIL,ALL\n",
    "#SBATCH --mail-user=bioinfolucas@gmail.com   # Email to which notifications will be sent\n",
    "\n",
    "NTHREADS=20; \n",
    "mkdir /n/scratch3/users/l/lf114/gasperini_2019_pipeline_crispr\n",
    "cd /n/scratch3/users/l/lf114/gasperini_2019_pipeline_crispr\n",
    "wget https://sra-pub-src-1.s3.amazonaws.com/SRR7967482/pilot_highmoi_screen.1_SI_GA_G1.bam.1;mv pilot_highmoi_screen.1_SI_GA_G1.bam.1 pilot_highmoi_screen.1_SI_GA_G1.bam\n",
    "./bamtofastq_linux --nthreads=\"$NTHREADS\" pilot_highmoi_screen.1_SI_GA_G1.bam bam_pilot_scrna_1\n",
    "wget https://github.com/10XGenomics/bamtofastq/releases/download/v1.4.1/bamtofastq_linux; chmod +x bamtofastq_linux\n",
    "wget https://sra-pub-src-1.s3.amazonaws.com/SRR7967488/pilot_highmoi_screen.1_CGTTACCG.grna.bam.1;mv pilot_highmoi_screen.1_CGTTACCG.grna.bam.1 pilot_highmoi_screen.1_CGTTACCG.grna.bam\n",
    "./bamtofastq_linux --nthreads=\"$NTHREADS\" pilot_highmoi_screen.1_CGTTACCG.grna.bam bam_pilot_guide_1\n"
   ]
  },
  {
   "cell_type": "code",
   "execution_count": 18,
   "id": "ea32dc18-540d-411e-a9b8-5a88a358639f",
   "metadata": {
    "tags": []
   },
   "outputs": [
    {
     "name": "stdout",
     "output_type": "stream",
     "text": [
      "Submitted batch job 19102404\n"
     ]
    }
   ],
   "source": [
    "#sending as a job using jupyter (remove ! case in terminal)\n",
    "!sbatch download.sh\n"
   ]
  },
  {
   "cell_type": "code",
   "execution_count": null,
   "id": "49de6338-4cd1-4725-8e26-57944e4b0199",
   "metadata": {},
   "outputs": [],
   "source": []
  },
  {
   "cell_type": "markdown",
   "id": "f3769253-00e5-4707-baa7-f4d6838977f9",
   "metadata": {},
   "source": [
    "#  Use this set of commands in the terminal\n",
    "```bash\n",
    "conda create -n perturbseq_like_pipeline_2023 python=3.8  \n",
    "conda activate perturbseq_like_pipeline_2023  \n",
    "conda install -c conda-forge mamba -y   \n",
    "pip install nextflow  \n",
    "pip uninstall GTFProcessing -y  \n",
    "pip install git+https://github.com/LucasSilvaFerreira/GTFProcessing.git  \n",
    "pip install gtfparse==1.3.0  \n",
    "pip install git+https://github.com/LucasSilvaFerreira/Perturb_Loader.git  \n",
    "pip install --quiet kb-python  \n",
    "conda install -c conda-forge mamba -y  \n",
    "mamba install -c bioconda nextflow -y  \n",
    "mamba install -c bioconda kallisto -y  \n",
    "mamba install -c anaconda openpyxl -y  \n",
    "mamba install -c conda-forge r-base -y  \n",
    "mamba install -c conda-forge r-gert -y  \n",
    "mamba install -c conda-forge r-ragg -y  \n",
    "mamba install -c conda-forge r-ggplot2 -Y  \n",
    "mamba install -c conda-forge r-biocmanager -Y   \n",
    "Rscript -e 'BiocManager::install(\"Rhdf5lib\")'  \n",
    "Rscript -e 'BiocManager::install(\"rhdf5\")'  \n",
    "Rscript -e 'BiocManager::install(\"ShortRead\")'  \n",
    "Rscript -e 'install.packages(\"doParallel\", repos = \"http://cran.us.r-project.org\")'  \n",
    "mamba conda install -c conda-forge r-devtools -y \n",
    "Rscript -e 'devtools::install_github(\"katsevich-lab/sceptre\")'  \n",
    "Rscript -e 'devtools::install_github(\"chris-mcginnis-ucsf/MULTI-seq\")'  \n",
    "pip install muon  \n",
    "pip install scrublet  \n",
    "pip install pybiomart  \n",
    "mamba create -n pygenomictracks pygenometracks==3.8 -c bioconda -y  \n",
    "```\n",
    "\n",
    "\n",
    "### Note: This installation should be improved\n"
   ]
  },
  {
   "cell_type": "code",
   "execution_count": 16,
   "id": "8c60b64c-6eb2-4dc5-8e1e-56a5ecbf6b2f",
   "metadata": {
    "tags": []
   },
   "outputs": [
    {
     "name": "stdout",
     "output_type": "stream",
     "text": [
      "--2023-10-06 12:14:42--  https://github.com/10XGenomics/cellranger/raw/master/lib/python/cellranger/barcodes/737K-august-2016.txt\n",
      "Resolving github.com (github.com)... 140.82.112.4\n",
      "Connecting to github.com (github.com)|140.82.112.4|:443... connected.\n",
      "HTTP request sent, awaiting response... 302 Found\n",
      "Location: https://raw.githubusercontent.com/10XGenomics/cellranger/master/lib/python/cellranger/barcodes/737K-august-2016.txt [following]\n",
      "--2023-10-06 12:14:42--  https://raw.githubusercontent.com/10XGenomics/cellranger/master/lib/python/cellranger/barcodes/737K-august-2016.txt\n",
      "Resolving raw.githubusercontent.com (raw.githubusercontent.com)... 185.199.109.133, 185.199.110.133, 185.199.111.133, ...\n",
      "Connecting to raw.githubusercontent.com (raw.githubusercontent.com)|185.199.109.133|:443... connected.\n",
      "HTTP request sent, awaiting response... 200 OK\n",
      "Length: 12533760 (12M) [text/plain]\n",
      "Saving to: ‘737K-august-2016.txt’\n",
      "\n",
      "100%[======================================>] 12,533,760  9.06MB/s   in 1.3s   \n",
      "\n",
      "2023-10-06 12:14:44 (9.06 MB/s) - ‘737K-august-2016.txt’ saved [12533760/12533760]\n",
      "\n"
     ]
    }
   ],
   "source": [
    "#download white list\n",
    "!wget https://github.com/10XGenomics/cellranger/raw/master/lib/python/cellranger/barcodes/737K-august-2016.txt"
   ]
  },
  {
   "cell_type": "code",
   "execution_count": null,
   "id": "ac00cf10-beee-4bce-b613-eef507380cb4",
   "metadata": {},
   "outputs": [],
   "source": [
    "# Capturing kallisto path bin\n",
    "#use it in your config\n",
    "!source activate perturbseq_like_pipeline_2023; which kallisto"
   ]
  },
  {
   "cell_type": "code",
   "execution_count": 18,
   "id": "8f6c9d51-025b-4ad2-a5de-690d58273ae0",
   "metadata": {
    "tags": []
   },
   "outputs": [
    {
     "name": "stdout",
     "output_type": "stream",
     "text": [
      "Cloning into 'pipeline_perturbseq_like'...\n",
      "remote: Enumerating objects: 315, done.\u001b[K\n",
      "remote: Counting objects: 100% (132/132), done.\u001b[K\n",
      "remote: Compressing objects: 100% (110/110), done.\u001b[K\n",
      "remote: Total 315 (delta 74), reused 47 (delta 20), pack-reused 183\u001b[K\n",
      "Receiving objects: 100% (315/315), 1.25 MiB | 5.81 MiB/s, done.\n",
      "Resolving deltas: 100% (173/173), done.\n"
     ]
    }
   ],
   "source": [
    "!git clone https://github.com/LucasSilvaFerreira/pipeline_perturbseq_like.git"
   ]
  },
  {
   "cell_type": "code",
   "execution_count": 19,
   "id": "fa45e5fd-b68f-4d68-915f-9d51f311ab01",
   "metadata": {
    "tags": []
   },
   "outputs": [
    {
     "name": "stdout",
     "output_type": "stream",
     "text": [
      "bin\t\t\t\t\t\t    perturb.config\n",
      "df_from_gasperini_tss.xlsx\t\t\t    README.md\n",
      "feature_example.xlsx\t\t\t\t    run_jamboree_v2.ipynb\n",
      "image\t\t\t\t\t\t    taks_jamboree\n",
      "main.nf\t\t\t\t\t\t    testing.txt\n",
      "merged_hbg_genes_perturb_cis_hbb_multi_high.config  Untitled1.ipynb\n",
      "perturb_cis_hbb_low.config\n"
     ]
    }
   ],
   "source": [
    "!ls pipeline_perturbseq_like"
   ]
  },
  {
   "cell_type": "code",
   "execution_count": null,
   "id": "84e72d8c-e7b7-4091-871a-62086f5d10d5",
   "metadata": {},
   "outputs": [],
   "source": [
    "%%write gasperini_sample.config\n",
    "\n",
    "params.GTF_GZ_LINK = 'http://ftp.ensembl.org/pub/release-106/gtf/homo_sapiens/Homo_sapiens.GRCh38.106.gtf.gz'\n",
    "params.TRANSCRIPTOME_REFERENCE = \"human\"\n",
    "params.KALLISTO_BIN = 'ADD YOUR KALLISTO BIN' //PATHWAY KALLISTO INSTALL check your install path (previous command)\n",
    "params.GENOME = 'https://hgdownload.soe.ucsc.edu/goldenPath/hg38/bigZips/hg38.fa.gz'\n",
    "\n",
    "\n",
    "params.GUIDE_FEATURES = 'pipeline_perturbseq_like/df_from_gasperini_tss.xlsx'\n",
    "\n",
    "\n",
    "\n",
    "params.CHEMISTRY = \"10XV3\"\n",
    "params.THREADS = 15\n",
    "params.DISTANCE_NEIGHBORS = 1000000\n",
    "params.IN_TRANS = \"FALSE\"\n",
    "params.FASTQ_FILES_TRANSCRIPTS = ['bam_pilot_scrna_1/K1000_CRISPRi_cells_r1_SI-GA-G1_MissingLibrary_1_HMMKLBGX3/bamtofastq_S1_L001_R1_001.fastq.gz  bam_pilot_scrna_1/K1000_CRISPRi_cells_r1_SI-GA-G1_MissingLibrary_1_HMMKLBGX3/bamtofastq_S1_L001_R2_001.fastq.gz  bam_pilot_scrna_1/K1000_CRISPRi_cells_r1_SI-GA-G1_MissingLibrary_1_HMMMLBGX3/bamtofastq_S1_L001_R1_001.fastq.gz  bam_pilot_scrna_1/K1000_CRISPRi_cells_r1_SI-GA-G1_MissingLibrary_1_HMMMLBGX3/bamtofastq_S1_L001_R2_001.fastq.gz  bam_pilot_scrna_1/K1000_CRISPRi_cells_r1_SI-GA-G1_MissingLibrary_1_HW5MKBGX3/bamtofastq_S1_L001_R1_001.fastq.gz  bam_pilot_scrna_1/K1000_CRISPRi_cells_r1_SI-GA-G1_MissingLibrary_1_HW5MKBGX3/bamtofastq_S1_L001_R2_001.fastq.gz  bam_pilot_scrna_1/K1000_CRISPRi_cells_r1_SI-GA-G1_MissingLibrary_1_HWVT7BGX3/bamtofastq_S1_L001_R1_001.fastq.gz  bam_pilot_scrna_1/K1000_CRISPRi_cells_r1_SI-GA-G1_MissingLibrary_1_HWVT7BGX3/bamtofastq_S1_L001_R2_001.fastq.gz  bam_pilot_scrna_1/K1000_CRISPRi_cells_r1_SI-GA-G1_MissingLibrary_1_HMMKLBGX3/bamtofastq_S1_L002_R1_001.fastq.gz  bam_pilot_scrna_1/K1000_CRISPRi_cells_r1_SI-GA-G1_MissingLibrary_1_HMMKLBGX3/bamtofastq_S1_L002_R2_001.fastq.gz  bam_pilot_scrna_1/K1000_CRISPRi_cells_r1_SI-GA-G1_MissingLibrary_1_HMMMLBGX3/bamtofastq_S1_L002_R1_001.fastq.gz  bam_pilot_scrna_1/K1000_CRISPRi_cells_r1_SI-GA-G1_MissingLibrary_1_HMMMLBGX3/bamtofastq_S1_L002_R2_001.fastq.gz  bam_pilot_scrna_1/K1000_CRISPRi_cells_r1_SI-GA-G1_MissingLibrary_1_HW5MKBGX3/bamtofastq_S1_L002_R1_001.fastq.gz  bam_pilot_scrna_1/K1000_CRISPRi_cells_r1_SI-GA-G1_MissingLibrary_1_HW5MKBGX3/bamtofastq_S1_L002_R2_001.fastq.gz  bam_pilot_scrna_1/K1000_CRISPRi_cells_r1_SI-GA-G1_MissingLibrary_1_HWVT7BGX3/bamtofastq_S1_L002_R1_001.fastq.gz  bam_pilot_scrna_1/K1000_CRISPRi_cells_r1_SI-GA-G1_MissingLibrary_1_HWVT7BGX3/bamtofastq_S1_L002_R2_001.fastq.gz  bam_pilot_scrna_1/K1000_CRISPRi_cells_r1_SI-GA-G1_MissingLibrary_1_HMMKLBGX3/bamtofastq_S1_L003_R1_001.fastq.gz  bam_pilot_scrna_1/K1000_CRISPRi_cells_r1_SI-GA-G1_MissingLibrary_1_HMMKLBGX3/bamtofastq_S1_L003_R2_001.fastq.gz  bam_pilot_scrna_1/K1000_CRISPRi_cells_r1_SI-GA-G1_MissingLibrary_1_HMMMLBGX3/bamtofastq_S1_L003_R1_001.fastq.gz  bam_pilot_scrna_1/K1000_CRISPRi_cells_r1_SI-GA-G1_MissingLibrary_1_HMMMLBGX3/bamtofastq_S1_L003_R2_001.fastq.gz  bam_pilot_scrna_1/K1000_CRISPRi_cells_r1_SI-GA-G1_MissingLibrary_1_HW5MKBGX3/bamtofastq_S1_L003_R1_001.fastq.gz  bam_pilot_scrna_1/K1000_CRISPRi_cells_r1_SI-GA-G1_MissingLibrary_1_HW5MKBGX3/bamtofastq_S1_L003_R2_001.fastq.gz  bam_pilot_scrna_1/K1000_CRISPRi_cells_r1_SI-GA-G1_MissingLibrary_1_HWVT7BGX3/bamtofastq_S1_L003_R1_001.fastq.gz  bam_pilot_scrna_1/K1000_CRISPRi_cells_r1_SI-GA-G1_MissingLibrary_1_HWVT7BGX3/bamtofastq_S1_L003_R2_001.fastq.gz  bam_pilot_scrna_1/K1000_CRISPRi_cells_r1_SI-GA-G1_MissingLibrary_1_HMMKLBGX3/bamtofastq_S1_L004_R1_001.fastq.gz  bam_pilot_scrna_1/K1000_CRISPRi_cells_r1_SI-GA-G1_MissingLibrary_1_HMMKLBGX3/bamtofastq_S1_L004_R2_001.fastq.gz  bam_pilot_scrna_1/K1000_CRISPRi_cells_r1_SI-GA-G1_MissingLibrary_1_HMMMLBGX3/bamtofastq_S1_L004_R1_001.fastq.gz  bam_pilot_scrna_1/K1000_CRISPRi_cells_r1_SI-GA-G1_MissingLibrary_1_HMMMLBGX3/bamtofastq_S1_L004_R2_001.fastq.gz  bam_pilot_scrna_1/K1000_CRISPRi_cells_r1_SI-GA-G1_MissingLibrary_1_HW5MKBGX3/bamtofastq_S1_L004_R1_001.fastq.gz  bam_pilot_scrna_1/K1000_CRISPRi_cells_r1_SI-GA-G1_MissingLibrary_1_HW5MKBGX3/bamtofastq_S1_L004_R2_001.fastq.gz  bam_pilot_scrna_1/K1000_CRISPRi_cells_r1_SI-GA-G1_MissingLibrary_1_HWVT7BGX3/bamtofastq_S1_L004_R1_001.fastq.gz  bam_pilot_scrna_1/K1000_CRISPRi_cells_r1_SI-GA-G1_MissingLibrary_1_HWVT7BGX3/bamtofastq_S1_L004_R2_001.fastq.gz'] \n",
    "params.FASTQ_NAMES_TRANSCRIPTS = ['S1_L1'] \n",
    "\n",
    "\n",
    "\n",
    "params.CUSTOM_REFERENCE = false\n",
    "params.CUSTOM_REFERENCE_IDX = ''\n",
    "params.CUSTOM_REFERENCE_T2T = ''\n",
    "params.CUSTOM_GTF_PATH = ''\n",
    "\n",
    "\n",
    "params.FASTQ_FILES_GUIDES = ['bam_pilot_guide_1/K1000_CRISPRi_gRNA_r1_CGTTACCG_MissingLibrary_1_HMMKLBGX3/bamtofastq_S1_L001_R1_001.fastq.gz  bam_pilot_guide_1/K1000_CRISPRi_gRNA_r1_CGTTACCG_MissingLibrary_1_HMMKLBGX3/bamtofastq_S1_L001_R2_001.fastq.gz  bam_pilot_guide_1/K1000_CRISPRi_gRNA_r1_CGTTACCG_MissingLibrary_1_HMMMLBGX3/bamtofastq_S1_L001_R1_001.fastq.gz  bam_pilot_guide_1/K1000_CRISPRi_gRNA_r1_CGTTACCG_MissingLibrary_1_HMMMLBGX3/bamtofastq_S1_L001_R2_001.fastq.gz  bam_pilot_guide_1/K1000_CRISPRi_gRNA_r1_CGTTACCG_MissingLibrary_1_HW5MKBGX3/bamtofastq_S1_L001_R1_001.fastq.gz  bam_pilot_guide_1/K1000_CRISPRi_gRNA_r1_CGTTACCG_MissingLibrary_1_HW5MKBGX3/bamtofastq_S1_L001_R2_001.fastq.gz  bam_pilot_guide_1/K1000_CRISPRi_gRNA_r1_CGTTACCG_MissingLibrary_1_HMMKLBGX3/bamtofastq_S1_L002_R1_001.fastq.gz  bam_pilot_guide_1/K1000_CRISPRi_gRNA_r1_CGTTACCG_MissingLibrary_1_HMMKLBGX3/bamtofastq_S1_L002_R2_001.fastq.gz  bam_pilot_guide_1/K1000_CRISPRi_gRNA_r1_CGTTACCG_MissingLibrary_1_HMMMLBGX3/bamtofastq_S1_L002_R1_001.fastq.gz  bam_pilot_guide_1/K1000_CRISPRi_gRNA_r1_CGTTACCG_MissingLibrary_1_HMMMLBGX3/bamtofastq_S1_L002_R2_001.fastq.gz  bam_pilot_guide_1/K1000_CRISPRi_gRNA_r1_CGTTACCG_MissingLibrary_1_HW5MKBGX3/bamtofastq_S1_L002_R1_001.fastq.gz  bam_pilot_guide_1/K1000_CRISPRi_gRNA_r1_CGTTACCG_MissingLibrary_1_HW5MKBGX3/bamtofastq_S1_L002_R2_001.fastq.gz  bam_pilot_guide_1/K1000_CRISPRi_gRNA_r1_CGTTACCG_MissingLibrary_1_HMMKLBGX3/bamtofastq_S1_L003_R1_001.fastq.gz  bam_pilot_guide_1/K1000_CRISPRi_gRNA_r1_CGTTACCG_MissingLibrary_1_HMMKLBGX3/bamtofastq_S1_L003_R2_001.fastq.gz  bam_pilot_guide_1/K1000_CRISPRi_gRNA_r1_CGTTACCG_MissingLibrary_1_HMMMLBGX3/bamtofastq_S1_L003_R1_001.fastq.gz  bam_pilot_guide_1/K1000_CRISPRi_gRNA_r1_CGTTACCG_MissingLibrary_1_HMMMLBGX3/bamtofastq_S1_L003_R2_001.fastq.gz  bam_pilot_guide_1/K1000_CRISPRi_gRNA_r1_CGTTACCG_MissingLibrary_1_HW5MKBGX3/bamtofastq_S1_L003_R1_001.fastq.gz  bam_pilot_guide_1/K1000_CRISPRi_gRNA_r1_CGTTACCG_MissingLibrary_1_HW5MKBGX3/bamtofastq_S1_L003_R2_001.fastq.gz  bam_pilot_guide_1/K1000_CRISPRi_gRNA_r1_CGTTACCG_MissingLibrary_1_HMMKLBGX3/bamtofastq_S1_L004_R1_001.fastq.gz  bam_pilot_guide_1/K1000_CRISPRi_gRNA_r1_CGTTACCG_MissingLibrary_1_HMMKLBGX3/bamtofastq_S1_L004_R2_001.fastq.gz  bam_pilot_guide_1/K1000_CRISPRi_gRNA_r1_CGTTACCG_MissingLibrary_1_HMMMLBGX3/bamtofastq_S1_L004_R1_001.fastq.gz  bam_pilot_guide_1/K1000_CRISPRi_gRNA_r1_CGTTACCG_MissingLibrary_1_HMMMLBGX3/bamtofastq_S1_L004_R2_001.fastq.gz  bam_pilot_guide_1/K1000_CRISPRi_gRNA_r1_CGTTACCG_MissingLibrary_1_HW5MKBGX3/bamtofastq_S1_L004_R1_001.fastq.gz  bam_pilot_guide_1/K1000_CRISPRi_gRNA_r1_CGTTACCG_MissingLibrary_1_HW5MKBGX3/bamtofastq_S1_L004_R2_001.fastq.gz'] \n",
    "params.FASTQ_NAMES_GUIDES = ['S1_L1'] \n",
    "\n",
    "params.CREATE_REF = false\n",
    "params.ADDGENENAMES = ''\n",
    "params.DIRECTION = 'both'\n",
    "\n",
    "params.WHITELIST= '737K-august-2016.txt'\n",
    "\n",
    "params.EXPECTED_CELL_NUMBER = 10000\n",
    "params.MITO_SPECIE = 'hsapiens'\n",
    "params.MITO_EXPECTED_PERCENTAGE = 0.2\n",
    "params.PERCENTAGE_OF_CELLS_INCLUDING_TRANSCRIPTS=0.01\n",
    "params.TRANSCRIPTS_UMI_TRHESHOLD = 2000\n",
    "params.GUIDE_UMI_LIMIT = 3\n",
    "\n",
    "params.MERGE = false\n",
    "\n",
    "\n",
    "//MULTISEQ\n",
    "\n",
    "params.RUN_MULTISEQ = false\n",
    "params.R1_MULTI = ''\n",
    "params.R2_MULTI = ''\n",
    "params.BARCODES_MULTIBAR_LIST_MULTI = ''\n",
    "params.BAR_MULTI= [1,16]\n",
    "params.UMI_MULTI= [17,28]\n",
    "params.R2_MULTI_TAG = [1,8]"
   ]
  },
  {
   "cell_type": "code",
   "execution_count": 15,
   "id": "251252df-f6c2-4587-9409-a2c55f948325",
   "metadata": {
    "tags": []
   },
   "outputs": [
    {
     "name": "stdout",
     "output_type": "stream",
     "text": [
      "/home/lf114/miniconda3/envs/perturbseq_pipeline/envs/perturbseq_like_pipeline_2023/bin/kallisto\n"
     ]
    }
   ],
   "source": []
  },
  {
   "cell_type": "code",
   "execution_count": null,
   "id": "4020791e-b5b1-44a8-8997-a98d9abbd3c4",
   "metadata": {},
   "outputs": [],
   "source": [
    "\n",
    "execute_path = '/n/scratch3/users/l/lf114/gasperini_2019_pipeline_crispr' # your path\n",
    "nf_path = 'pipeline_perturbseq_like/main.nf'    #'https://github.com/LucasSilvaFerreira/pipeline_perturbseq_like'\n",
    "dir_out = 'gasperini_test_01'\n",
    "report_path = f'{dir_out}'\n",
    "resume = '-resume' # -resume or empty\n",
    "param_file_path = 'gasperini_sample.config'\n",
    "visualization_timeline = f'{dir_out}.html'\n",
    "#case WANT TO have an amazing dashboard\n",
    "tower_toker = 'aaa' # create your own account in next tower and capture your token https://cloud.tower.nf\n",
    "next_tower =   f'export TOWER_ACCESS_TOKEN={tower_toker}' # add your next flow tower\n",
    "next_version = 'export NXF_VER=22.10.6'\n",
    "tower = ' -with-tower '\n",
    "\n",
    "cmd_run = f' {next_tower};{next_version};cd {execute_path}; nextflow run {nf_path} -c {param_file_path}  {tower}  -with-timeline {visualization_timeline} {resume} -w  {dir_out}   '\n",
    "#-with-dag {dag_viz}\n",
    "!$cmd_run"
   ]
  }
 ],
 "metadata": {
  "kernelspec": {
   "display_name": "Python 3 (ipykernel)",
   "language": "python",
   "name": "python3"
  },
  "language_info": {
   "codemirror_mode": {
    "name": "ipython",
    "version": 3
   },
   "file_extension": ".py",
   "mimetype": "text/x-python",
   "name": "python",
   "nbconvert_exporter": "python",
   "pygments_lexer": "ipython3",
   "version": "3.8.15"
  }
 },
 "nbformat": 4,
 "nbformat_minor": 5
}
