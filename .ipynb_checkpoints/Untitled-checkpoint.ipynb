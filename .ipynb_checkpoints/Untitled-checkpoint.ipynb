{
 "cells": [
  {
   "cell_type": "markdown",
   "id": "4d94b8a1-a03a-4ab2-b580-09e45460efce",
   "metadata": {},
   "source": [
    "## TODO\n",
    "- [X]  checkedRUN AGAIN WITH A MODIFIED EXCEL (CHANGING THE NAME OF THE NEGATIVE CONTROL GENES)\n",
    "- [X] Eliminate guides present with less than 30 cells\n",
    "- [X] Fix the single batch problem \n",
    "- [X]  SOLVE THE PROBLEM TO RUN AGAINST ALL GENES (TRANS ANALYSIS) (Should be configured by guide in the future?)\n",
    "- [ ]  ADD PARAMETERS TO SOME OF THE FUNCTIONS (THEY ARE HARDCODED NOW ..EX: merge..number of cells and etc)\n",
    "- [ ]  Create a nice description to the input files\n",
    "- [ ]  fix the Rbase version to 4.2.2\n",
    "- [ ]  change threads to cpus  (taks.cpu)\n",
    "- [ ]  probably I can provide a list of elements and ask nextflow to handle the paralelizing (receiving the elements names in a channel?)\n",
    "- [ ]  Create easing options to add 3'and 5'chemistry\n",
    "- [ ]  how is the -report flag in the count comand? is this memory expensive?\n",
    "- [ ]  Cell hashing and Multi-seq ? https://www.ncbi.nlm.nih.gov/sra?linkname=bioproject_sra_all&from_uid=719672"
   ]
  },
  {
   "cell_type": "markdown",
   "id": "684133d0-b920-4b7d-8a17-20a3f6f441de",
   "metadata": {},
   "source": [
    "activate the enviroment: source activate perturbseq_pipeline"
   ]
  },
  {
   "cell_type": "code",
   "execution_count": null,
   "id": "2d3eff89-695f-4bcc-817c-61a6833ce783",
   "metadata": {},
   "outputs": [],
   "source": [
    "!cd ../yanhua_perturbseq "
   ]
  },
  {
   "cell_type": "code",
   "execution_count": 11,
   "id": "f3035e24-41c7-4d2a-ac61-00917825ddd3",
   "metadata": {},
   "outputs": [
    {
     "name": "stdout",
     "output_type": "stream",
     "text": [
      "pipeline.ipynb\n",
      "processing_script_and_testings.ipynb\n",
      "Untitled.ipynb\n",
      "visualization.ipynb\n"
     ]
    }
   ],
   "source": [
    "!ls /n/data1/bch/hemonc/bauer/lucassilva/guillame_perturbseq/ | grep ipynb"
   ]
  },
  {
   "cell_type": "code",
   "execution_count": 28,
   "id": "a55eabc4-783a-4832-82c0-72664eb53dd5",
   "metadata": {},
   "outputs": [
    {
     "name": "stdout",
     "output_type": "stream",
     "text": [
      "Writing file.perturb\n"
     ]
    }
   ],
   "source": [
    "%%writefile file.perturb\n",
    "\n",
    "\n",
    "params {\n",
    "    \n",
    "    GTF_GZ_LINK = 'http://ftp.ensembl.org/pub/release-106/gtf/homo_sapiens/Homo_sapiens.GRCh38.106.gtf.gz'\n",
    "    TRANSCRIPTOME_REFERENCE = \"human\"\n",
    "    KALLISTO_BIN = '/home/lf114/miniconda3/envs/perturbseq_pipeline/bin/kallisto'\n",
    "    GENOME = 'https://hgdownload.soe.ucsc.edu/goldenPath/hg38/bigZips/hg38.fa.gz'\n",
    "    GUIDE_FEATURES = '5p27sgRNA_guide_metainfo_modified.xlsx'\n",
    "    CHEMISTRY = '0,0,16:0,16,26:0,26,0,1,0,0'\n",
    "    THREADS = 15\n",
    "    DISTANCE_NEIGHBORS = 1000000\n",
    "    IN_TRANS = \"FALSE\"\n",
    "    FASTQ_FILES_TRANSCRIPTS = ['5p27sgRNAGex_02KRWD_11408_S3_L001_R1_001.fastq.gz 5p27sgRNAGex_02KRWD_11408_S3_L001_R2_001.fastq.gz']\n",
    "    FASTQ_NAMES_TRANSCRIPTS = ['S1_L1']\n",
    "    FASTQ_FILES_GUIDES = ['5p27sgRNAsgRNA_02KRWK_11408_S15_L001_R1_001.fastq.gz 5p27sgRNAsgRNA_02KRWK_11408_S15_L001_R2_001.fastq.gz' ]\n",
    "    FASTQ_NAMES_GUIDES = ['S1_L1']\n",
    "    CREATE_REF = false\n",
    "\n",
    "}\n",
    "\n"
   ]
  },
  {
   "cell_type": "code",
   "execution_count": 31,
   "id": "879d1890-7e31-4281-b172-333ec534929f",
   "metadata": {},
   "outputs": [
    {
     "name": "stdout",
     "output_type": "stream",
     "text": [
      "/bin/bash: nextflow: command not found\n"
     ]
    }
   ],
   "source": [
    "execute_path = '/n/scratch3/users/l/lf114/yanhua_perturbseq'\n",
    "nf_path = '/n/scratch3/users/l/lf114/pipeline_perturbseq_like'\n",
    "dir_out = 'first_test'\n",
    "report_path = f'/n/scratch3/users/l/lf114/yanhua_perturbseq/{dir_out}'\n",
    "resume = '-resume' # or empty\n",
    "param_file_path = '/n/scratch3/users/l/lf114/pipeline_perturbseq_like/file.perturb'\n",
    "\n",
    "cmd_run = f'cd {execute_path}; nextflow run {nf_path} -params-file {param_file_path} -with-timeline {report_path} {resume} -w  {dir_out}'\n",
    "\n",
    "!$cmd_run"
   ]
  },
  {
   "cell_type": "code",
   "execution_count": 26,
   "id": "e194f392-9362-46ab-b9eb-0df501751afe",
   "metadata": {},
   "outputs": [
    {
     "name": "stdout",
     "output_type": "stream",
     "text": [
      "/n/scratch3/users/l/lf114/pipeline_perturbseq_like\n"
     ]
    }
   ],
   "source": [
    "!pwd"
   ]
  },
  {
   "cell_type": "code",
   "execution_count": 33,
   "id": "27914098-c722-49aa-b3da-67181f0b5b37",
   "metadata": {},
   "outputs": [
    {
     "name": "stdout",
     "output_type": "stream",
     "text": [
      "/bin/bash: newflow: command not found\n"
     ]
    }
   ],
   "source": []
  },
  {
   "cell_type": "code",
   "execution_count": null,
   "id": "1adc37b9-df91-4a76-bab7-6208c9e99c6c",
   "metadata": {},
   "outputs": [],
   "source": []
  }
 ],
 "metadata": {
  "kernelspec": {
   "display_name": "Python 3 (ipykernel)",
   "language": "python",
   "name": "python3"
  },
  "language_info": {
   "codemirror_mode": {
    "name": "ipython",
    "version": 3
   },
   "file_extension": ".py",
   "mimetype": "text/x-python",
   "name": "python",
   "nbconvert_exporter": "python",
   "pygments_lexer": "ipython3",
   "version": "3.7.13"
  }
 },
 "nbformat": 4,
 "nbformat_minor": 5
}
